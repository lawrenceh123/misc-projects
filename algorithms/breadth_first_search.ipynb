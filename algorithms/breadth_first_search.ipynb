{
 "cells": [
  {
   "cell_type": "markdown",
   "metadata": {},
   "source": [
    "<div class=\"alert alert-block alert-success\">\n",
    "    \n",
    "\n",
    "\n",
    "## <center>Breadth First Search </center>\n",
    "\n",
    "\n",
    "</div>\n",
    "    \n",
    "    "
   ]
  },
  {
   "cell_type": "code",
   "execution_count": 1,
   "metadata": {},
   "outputs": [],
   "source": [
    "# Import packages\n",
    "import numpy as np\n",
    "import pandas as pd\n",
    "import matplotlib.pyplot as plt\n",
    "import time\n",
    "%matplotlib inline\n",
    "import networkx as nx \n",
    "from collections import deque\n",
    "import seaborn as sns"
   ]
  },
  {
   "cell_type": "code",
   "execution_count": 2,
   "metadata": {},
   "outputs": [],
   "source": [
    "# Requirements: \n",
    "# Create graph with 5 levels and no reverse connections\n",
    "# Create 5 levels with 5 names for every node in the tree \n",
    "# You can hard-code the names or create your generator to generate the names for the different levels/nodes\n",
    "\n",
    "# create a balanced tree in networkx, where each node has 5 children and the tree height is 5 levels\n",
    "G = nx.balanced_tree(r=5, h=5)\n",
    "# convert networkx graph to a dictionary of lists\n",
    "graph = nx.to_dict_of_lists(G)\n",
    "# remove connections to parent node\n",
    "for kk in graph:\n",
    "    if kk > 0: # if not root\n",
    "        graph[kk].pop(0)\n",
    "\n",
    "# check length of dict against expected number of nodes (1 + 5 + 25 + 125 + 625 + 3125)\n",
    "assert len(graph) == sum([5**ii for ii in range(5 + 1)])\n",
    "# check # terminal/leaf nodes against expected number (3125), \n",
    "# and also confirming that leaf nodes have no children\n",
    "assert len([vv for kk, vv in graph.items() if not vv]) == 3125"
   ]
  },
  {
   "cell_type": "code",
   "execution_count": 3,
   "metadata": {},
   "outputs": [
    {
     "data": {
      "text/plain": [
       "{0: [1, 2, 3, 4, 5],\n",
       " 1: [6, 7, 8, 9, 10],\n",
       " 2: [11, 12, 13, 14, 15],\n",
       " 3: [16, 17, 18, 19, 20],\n",
       " 4: [21, 22, 23, 24, 25],\n",
       " 5: [26, 27, 28, 29, 30],\n",
       " 6: [31, 32, 33, 34, 35],\n",
       " 7: [36, 37, 38, 39, 40],\n",
       " 8: [41, 42, 43, 44, 45],\n",
       " 9: [46, 47, 48, 49, 50]}"
      ]
     },
     "execution_count": 3,
     "metadata": {},
     "output_type": "execute_result"
    }
   ],
   "source": [
    "# print partial view of the graph (dict of lists)\n",
    "# in this graph, the node labels or \"names\" are integers, starting from zero (root)\n",
    "dict(list(graph.items())[:10])"
   ]
  },
  {
   "cell_type": "code",
   "execution_count": 4,
   "metadata": {},
   "outputs": [
    {
     "data": {
      "text/plain": [
       "{3896: [],\n",
       " 3897: [],\n",
       " 3898: [],\n",
       " 3899: [],\n",
       " 3900: [],\n",
       " 3901: [],\n",
       " 3902: [],\n",
       " 3903: [],\n",
       " 3904: [],\n",
       " 3905: []}"
      ]
     },
     "execution_count": 4,
     "metadata": {},
     "output_type": "execute_result"
    }
   ],
   "source": [
    "# print partial view of the leaf nodes\n",
    "dict(list(graph.items())[-10:])"
   ]
  },
  {
   "cell_type": "code",
   "execution_count": 5,
   "metadata": {},
   "outputs": [
    {
     "name": "stdout",
     "output_type": "stream",
     "text": [
      "root: node 0\n",
      "level 1: nodes 1 to 5\n",
      "level 2: nodes 6 to 30\n",
      "level 3: nodes 31 to 155\n",
      "level 4: nodes 156 to 780\n",
      "level 5: nodes 781 to 3905\n"
     ]
    }
   ],
   "source": [
    "# get the range of node labels (\"names\") for each level\n",
    "total_nodes = [5**ii for ii in range(5 + 1)]\n",
    "level_start = [0, 1]\n",
    "level_start.extend([sum(total_nodes[:ii]) for ii in range(2, 6)])\n",
    "level_stop = [0, 5]\n",
    "level_stop.extend([sum(total_nodes[:ii])-1 for ii in range(2, 6)][1:])\n",
    "level_stop.append(len(graph)-1)\n",
    "\n",
    "print('root: node 0')\n",
    "for ii in range(1, 6): print(f'level {ii}: nodes {level_start[ii]} to {level_stop[ii]}')"
   ]
  },
  {
   "cell_type": "code",
   "execution_count": 6,
   "metadata": {},
   "outputs": [],
   "source": [
    "# breadth-first search algorithm modified from Bhargava\n",
    "# search a graph (here, dictionary of lists) for a target node, returning True if found, False otherwise\n",
    "def bfs(graph, root, target):\n",
    "    search_queue = deque()\n",
    "    search_queue += graph[root] # start with children of root\n",
    "    # This array is how you keep track of which people you've searched before.\n",
    "    searched = []\n",
    "    while search_queue:\n",
    "        person = search_queue.popleft()\n",
    "        # Only search this person if you haven't already searched them.\n",
    "        if person not in searched:\n",
    "            if person == target:\n",
    "                return True\n",
    "            else:\n",
    "                search_queue += graph[person]\n",
    "                # Marks this person as searched\n",
    "                searched.append(person)\n",
    "    return False"
   ]
  },
  {
   "cell_type": "code",
   "execution_count": 7,
   "metadata": {},
   "outputs": [
    {
     "data": {
      "text/html": [
       "<div>\n",
       "<style scoped>\n",
       "    .dataframe tbody tr th:only-of-type {\n",
       "        vertical-align: middle;\n",
       "    }\n",
       "\n",
       "    .dataframe tbody tr th {\n",
       "        vertical-align: top;\n",
       "    }\n",
       "\n",
       "    .dataframe thead th {\n",
       "        text-align: right;\n",
       "    }\n",
       "</style>\n",
       "<table border=\"1\" class=\"dataframe\">\n",
       "  <thead>\n",
       "    <tr style=\"text-align: right;\">\n",
       "      <th></th>\n",
       "      <th>level</th>\n",
       "      <th>node_searched</th>\n",
       "      <th>execution_time</th>\n",
       "    </tr>\n",
       "  </thead>\n",
       "  <tbody>\n",
       "    <tr>\n",
       "      <th>0</th>\n",
       "      <td>1</td>\n",
       "      <td>3</td>\n",
       "      <td>0.005208</td>\n",
       "    </tr>\n",
       "    <tr>\n",
       "      <th>1</th>\n",
       "      <td>1</td>\n",
       "      <td>1</td>\n",
       "      <td>0.000833</td>\n",
       "    </tr>\n",
       "    <tr>\n",
       "      <th>2</th>\n",
       "      <td>1</td>\n",
       "      <td>2</td>\n",
       "      <td>0.001000</td>\n",
       "    </tr>\n",
       "    <tr>\n",
       "      <th>3</th>\n",
       "      <td>2</td>\n",
       "      <td>8</td>\n",
       "      <td>0.004167</td>\n",
       "    </tr>\n",
       "    <tr>\n",
       "      <th>4</th>\n",
       "      <td>2</td>\n",
       "      <td>26</td>\n",
       "      <td>0.012500</td>\n",
       "    </tr>\n",
       "    <tr>\n",
       "      <th>5</th>\n",
       "      <td>2</td>\n",
       "      <td>29</td>\n",
       "      <td>0.014125</td>\n",
       "    </tr>\n",
       "    <tr>\n",
       "      <th>6</th>\n",
       "      <td>3</td>\n",
       "      <td>38</td>\n",
       "      <td>0.022000</td>\n",
       "    </tr>\n",
       "    <tr>\n",
       "      <th>7</th>\n",
       "      <td>3</td>\n",
       "      <td>55</td>\n",
       "      <td>0.034583</td>\n",
       "    </tr>\n",
       "    <tr>\n",
       "      <th>8</th>\n",
       "      <td>3</td>\n",
       "      <td>58</td>\n",
       "      <td>0.036834</td>\n",
       "    </tr>\n",
       "    <tr>\n",
       "      <th>9</th>\n",
       "      <td>4</td>\n",
       "      <td>628</td>\n",
       "      <td>2.477792</td>\n",
       "    </tr>\n",
       "    <tr>\n",
       "      <th>10</th>\n",
       "      <td>4</td>\n",
       "      <td>739</td>\n",
       "      <td>3.346041</td>\n",
       "    </tr>\n",
       "    <tr>\n",
       "      <th>11</th>\n",
       "      <td>4</td>\n",
       "      <td>731</td>\n",
       "      <td>3.188584</td>\n",
       "    </tr>\n",
       "    <tr>\n",
       "      <th>12</th>\n",
       "      <td>5</td>\n",
       "      <td>2361</td>\n",
       "      <td>31.679375</td>\n",
       "    </tr>\n",
       "    <tr>\n",
       "      <th>13</th>\n",
       "      <td>5</td>\n",
       "      <td>3016</td>\n",
       "      <td>50.845458</td>\n",
       "    </tr>\n",
       "    <tr>\n",
       "      <th>14</th>\n",
       "      <td>5</td>\n",
       "      <td>3401</td>\n",
       "      <td>64.363875</td>\n",
       "    </tr>\n",
       "  </tbody>\n",
       "</table>\n",
       "</div>"
      ],
      "text/plain": [
       "    level  node_searched  execution_time\n",
       "0       1              3        0.005208\n",
       "1       1              1        0.000833\n",
       "2       1              2        0.001000\n",
       "3       2              8        0.004167\n",
       "4       2             26        0.012500\n",
       "5       2             29        0.014125\n",
       "6       3             38        0.022000\n",
       "7       3             55        0.034583\n",
       "8       3             58        0.036834\n",
       "9       4            628        2.477792\n",
       "10      4            739        3.346041\n",
       "11      4            731        3.188584\n",
       "12      5           2361       31.679375\n",
       "13      5           3016       50.845458\n",
       "14      5           3401       64.363875"
      ]
     },
     "execution_count": 7,
     "metadata": {},
     "output_type": "execute_result"
    }
   ],
   "source": [
    "# Requirement:\n",
    "# Search for the 3 names (pick any random nodes) in every level\n",
    "\n",
    "level_list, node_list, search_time_list = [[] for xx in range(3)]\n",
    "np.random.seed(0)\n",
    "# iterate through each level\n",
    "for current_level in range(1, 6):\n",
    "    # pick 3 random nodes without replacement\n",
    "    selected_nodes = np.random.choice(np.arange(level_start[current_level], level_stop[current_level]+1),\n",
    "                                      size=3, replace=False)\n",
    "    # print('Level', current_level, 'nodes to search for:', selected_nodes)\n",
    "    \n",
    "    # perform bfs on each random node and get execution time\n",
    "    for current_node in selected_nodes:\n",
    "        start = time.perf_counter()\n",
    "        bfs(graph=graph, root=0, target=current_node)\n",
    "        end = time.perf_counter()\n",
    "        \n",
    "        # gather data\n",
    "        search_time_list.append((end - start) * 1000)\n",
    "        level_list.append(current_level)\n",
    "        node_list.append(current_node)\n",
    "\n",
    "# Create DataFrame for the results\n",
    "df = pd.DataFrame({'level':level_list, 'node_searched':node_list, 'execution_time':search_time_list})        \n",
    "df"
   ]
  },
  {
   "cell_type": "code",
   "execution_count": 8,
   "metadata": {},
   "outputs": [
    {
     "data": {
      "text/html": [
       "<div>\n",
       "<style scoped>\n",
       "    .dataframe tbody tr th:only-of-type {\n",
       "        vertical-align: middle;\n",
       "    }\n",
       "\n",
       "    .dataframe tbody tr th {\n",
       "        vertical-align: top;\n",
       "    }\n",
       "\n",
       "    .dataframe thead th {\n",
       "        text-align: right;\n",
       "    }\n",
       "</style>\n",
       "<table border=\"1\" class=\"dataframe\">\n",
       "  <thead>\n",
       "    <tr style=\"text-align: right;\">\n",
       "      <th></th>\n",
       "      <th>level</th>\n",
       "      <th>mean_execution_time</th>\n",
       "    </tr>\n",
       "  </thead>\n",
       "  <tbody>\n",
       "    <tr>\n",
       "      <th>0</th>\n",
       "      <td>1</td>\n",
       "      <td>0.002347</td>\n",
       "    </tr>\n",
       "    <tr>\n",
       "      <th>1</th>\n",
       "      <td>2</td>\n",
       "      <td>0.010264</td>\n",
       "    </tr>\n",
       "    <tr>\n",
       "      <th>2</th>\n",
       "      <td>3</td>\n",
       "      <td>0.031139</td>\n",
       "    </tr>\n",
       "    <tr>\n",
       "      <th>3</th>\n",
       "      <td>4</td>\n",
       "      <td>3.004139</td>\n",
       "    </tr>\n",
       "    <tr>\n",
       "      <th>4</th>\n",
       "      <td>5</td>\n",
       "      <td>48.962903</td>\n",
       "    </tr>\n",
       "  </tbody>\n",
       "</table>\n",
       "</div>"
      ],
      "text/plain": [
       "   level  mean_execution_time\n",
       "0      1             0.002347\n",
       "1      2             0.010264\n",
       "2      3             0.031139\n",
       "3      4             3.004139\n",
       "4      5            48.962903"
      ]
     },
     "execution_count": 8,
     "metadata": {},
     "output_type": "execute_result"
    }
   ],
   "source": [
    "# Requirement:\n",
    "# Caculate the average execution time to search 3 names for every level\n",
    "dfg = df.groupby('level')['execution_time'].mean().reset_index().rename(columns={'execution_time':'mean_execution_time'})\n",
    "dfg"
   ]
  },
  {
   "cell_type": "code",
   "execution_count": 9,
   "metadata": {},
   "outputs": [
    {
     "data": {
      "image/png": "[encoded data removed]",
      "text/plain": [
       "<Figure size 576x288 with 2 Axes>"
      ]
     },
     "metadata": {
      "needs_background": "light"
     },
     "output_type": "display_data"
    }
   ],
   "source": [
    "# Requirement:\n",
    "# Create bar chart to plot the average execution time for the different levels\n",
    "# level number on x-axis and average time on y-axis\n",
    "\n",
    "# to better visualize values for levels 1, 2, & 3, mean execution times were also plotted on a log scale\n",
    "fig, axs = plt.subplots(1,2, figsize=(8,4))\n",
    "for ax in axs:\n",
    "    ax.bar(x=dfg['level'], height=dfg['mean_execution_time'])\n",
    "    ax.set(xlabel='Level', ylabel='Mean execution time\\n(milliseconds)')\n",
    "axs[1].set_yscale('log')\n",
    "axs[0].set_title('Mean execution time vs. Level\\n(linear scale)')\n",
    "axs[1].set_title('Mean execution time vs. Level\\n(log scale)')\n",
    "fig.tight_layout()\n",
    "plt.show()"
   ]
  },
  {
   "cell_type": "code",
   "execution_count": 10,
   "metadata": {},
   "outputs": [
    {
     "data": {
      "image/png": "[encoded data removed]",
      "text/plain": [
       "<Figure size 1152x288 with 6 Axes>"
      ]
     },
     "metadata": {
      "needs_background": "light"
     },
     "output_type": "display_data"
    }
   ],
   "source": [
    "# plot execution times of all searches to visualize search times within each level\n",
    "fig, axs = plt.subplots(1, df['level'].nunique()+1, figsize=(16, 4))\n",
    "sns.scatterplot(x='node_searched', y='execution_time', data=df, hue='level', palette='tab10', s=50, ax=axs[0])\n",
    "axs[0].set_title('Execution time vs. node label\\nAll searches')\n",
    "for xx in df['level'].unique():\n",
    "    sns.scatterplot(x='node_searched', y='execution_time', data=df[df['level']==xx], color='k', s=80, ax=axs[xx])\n",
    "    axs[xx].set_title(f'Level {xx} searches')\n",
    "for ax in axs:\n",
    "    ax.set(ylabel='Execution time (milliseconds)', xlabel='Node label (\"name\")')\n",
    "fig.tight_layout()"
   ]
  },
  {
   "cell_type": "markdown",
   "metadata": {},
   "source": [
    "<div class=\"alert alert-block alert-danger\">\n",
    "    \n",
    "    \n",
    "\n",
    "### Requirements: \n",
    "- Modify the provided code snippets to measure the performance of the BFS algorithm\n",
    "- Create 5 levels with 5 names for every node in the tree \n",
    "- You can  hard-code the names or create your generator to generate the names for the different levels/nodes\n",
    "- Search for the 3 names (pick any random nodes) in every level\n",
    "- Caculate the average execution time to search 3 names for every level\n",
    "- Create bar chart to plot the average execution time for the different levels\n",
    "- Provide your comparative analysis for the different runs/searches at the different level\n",
    "\n",
    "\n",
    "\n",
    "\n",
    "\n",
    "\n",
    "<br>\n",
    "    \n",
    "</div>"
   ]
  },
  {
   "cell_type": "markdown",
   "metadata": {},
   "source": [
    "#### Breadth-first search (BFS)\n",
    "* BFS is an algorithm for searching a graph or tree data structure for a node that meets a given property.\n",
    "    * We start at the root and scan each node in the first level, moving from left to right. \n",
    "    * We then scan each node in the next level, moving from left to right. \n",
    "    * We continue this operation until we have found the node we are searching for, or until we have scanned all the nodes.\n",
    "\n",
    "\n",
    "* Time complexity: \n",
    "    * If we search the entire graph/tree, we will follow each edge and the running time is at least O(E), where E is the number of edges. \n",
    "    * We will also need a queue for every node/vertex to search. Adding a vertex to the queue takes constant time. Adding every vertex will take O(V) total, where V is the number of vertices. \n",
    "    * Taken together, BFS has time complexity of O(V+E) (Bhargava, 2016).\n",
    "\n",
    "\n",
    "* Space complexity:\n",
    "    * While scanning the current level, we need to know which nodes to visit once we go to the next level. To do this, we store pointers to the current level’s children in a queue (a First In, First Out data structure). Thus, BFS will have to store at least an entire level of nodes in the queue; the required memory is dependent on how wide the graph is.\n",
    "    * “When the number of vertices in the graph is known ahead of time, and additional data structures are used to determine which vertices have already been added to the queue, the space complexity can be expressed as O(V), where V is the number of vertices. This is in addition to the space required for the graph itself, which may vary depending on the graph representation used by an implementation of the algorithm.” (ref: https://en.wikipedia.org/wiki/Breadth-first_search)\n",
    "\n",
    "#### Results\n",
    "* In this experiment, mean search times appeared to increase exponentially with increasing levels. Mean search time was much longer for level 5 compared to level 4, and much longer for level 4 compared to level 3, and so on (Figures in cells 9 and 10). We saw that when plotted on the same linear scale, mean search times for levels 1, 2, and 3 were not visible (Figure in cell 9). \n",
    "\n",
    "\n",
    "* This result was expected because BFS takes O(V+E) time. In this balanced tree, the number of nodes and edges grew exponentially at each additional level. For example, the number of nodes scaled as 5<sup>N</sup> for each level, where N = level. That is, there were at most 5 nodes to scan and edges to follow when searching for a node in level 1, compared to at most 3905 nodes to scan and edges to follow when searching for a node in level 5 (with 3125 of those nodes in level 5 alone).\n",
    "\n",
    "\n",
    "* Within each level, since nodes are added to the queue from left to right, we would expect longer search times for nodes with larger node/integer labels. (As explained above, in this graph, node \"names\" are represented using integers.) Indeed, this was what we observed in the experiment (Figure in cell 10). \n",
    "\n",
    "\n",
    "* Consistent with the above observation, we would expect node 3905 (level 5, rightmost node) to have the longest search time based on the order of traversal. In this worst-case scenario, every node and every edge will need to be explored. The above observation also means that the mean search time for a given level is highly dependent on the randomly selected nodes, especially for deeper levels of the tree. For example, possible node labels for level 5 range from 781 to 3905, but here, the 3 randomly selected node labels were all >2300.\n",
    "\n",
    "#### Conclusions\n",
    "Data engineers should consider (1) the structure of the graph/tree and (2) the number and location of the solutions (target nodes) when considering to use BFS or an alternative search algorithm such as depth-first search (DFS). \n",
    "\n",
    "\n",
    "Example considerations:\n",
    "* If we want to find the shortest path to a node from a given source, we should use BFS (Bhargava, 2016). \n",
    "* If we know that the node we are searching for is not far from the root, BFS may be a good choice. Alternatively, if we know that the solution is deep in the tree, DFS may be preferred. We saw in this experiment the large difference in mean search time as we searched deeper into the tree using BFS. \n",
    "* If the tree is very wide, BFS may need too much memory to add an entire level of nodes in the queue. \n",
    "\n",
    "In practice, data engineers may need to experiment in order to determine the best approach for each use case. \n",
    "\n",
    "#### References\n",
    "* Bhargava, A. Y. (2016.) Grokking Algorithms: An Illustrated Guide for Programmers and Other Curious People. Shelter Island, N.Y.: Manning.\n",
    "\n",
    "\n",
    "\n"
   ]
  }
 ],
 "metadata": {
  "kernelspec": {
   "display_name": "Python 3 (ipykernel)",
   "language": "python",
   "name": "python3"
  },
  "language_info": {
   "codemirror_mode": {
    "name": "ipython",
    "version": 3
   },
   "file_extension": ".py",
   "mimetype": "text/x-python",
   "name": "python",
   "nbconvert_exporter": "python",
   "pygments_lexer": "ipython3",
   "version": "3.8.12"
  }
 },
 "nbformat": 4,
 "nbformat_minor": 2
}
