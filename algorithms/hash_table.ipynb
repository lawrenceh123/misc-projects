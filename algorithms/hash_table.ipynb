{
 "cells": [
  {
   "cell_type": "markdown",
   "metadata": {},
   "source": [
    "<div class=\"alert alert-block alert-success\">\n",
    "    \n",
    "\n",
    "## <center> Hash Table</center>\n",
    "</div>\n",
    "    \n",
    "    "
   ]
  },
  {
   "cell_type": "code",
   "execution_count": 1,
   "metadata": {},
   "outputs": [],
   "source": [
    "# Import libraries\n",
    "\n",
    "import numpy as np\n",
    "import pandas as pd\n",
    "import matplotlib.pyplot as plt\n",
    "import time\n",
    "import string\n",
    "import random\n",
    "from collections import Counter\n",
    "SEED = 213\n",
    "random.seed(SEED)"
   ]
  },
  {
   "cell_type": "markdown",
   "metadata": {},
   "source": [
    "The linear search function below will run through a list, or array,of numbers/strings and pull the index where a select number/string was found, similar to the bimary search function. But a linear search runs through each index beginning with the first index and searching until it finds the select number. For example, given a list of sorted numbers 1 through 100, it will first search 1, then 2, then 3, then so on until it finds the select number. Thus, if the number being search for is 100, it will take 100 steps to find the number, whereas the binary search will only take 7 steps."
   ]
  },
  {
   "cell_type": "code",
   "execution_count": 2,
   "metadata": {},
   "outputs": [],
   "source": [
    "# linear search\n",
    "# runs through each index, beginning with the first index, and searching until it finds the selected element\n",
    "def linear_search(mylist, item):\n",
    "    for i in range(len(mylist)):\n",
    "        if mylist[i]==item:\n",
    "            return i\n",
    "    return None"
   ]
  },
  {
   "cell_type": "markdown",
   "metadata": {},
   "source": [
    "The binary search function below will run through a list, or array, of numbers/strings and pull the index where a select number/string was found. If not found, it will return none. This is an incredibly powerful algorithm. For example, given a list of sorted numbers 1 through 100, the algorithm will begin its search for the select number at the middploint, position 50. If the number at position 50 is higher than the select number, all positions 50 and above have now been eliminated. If the number at position 50 is lower than the select number, all position 50 and below have now been eliminated. Every time, you guess the middle number and eliminate half the remaining numbers. Thus, if the number being searched for is 100, it will take only 7 steps to find the number."
   ]
  },
  {
   "cell_type": "code",
   "execution_count": 3,
   "metadata": {},
   "outputs": [],
   "source": [
    "# Bhargava's imlementation of binary search\n",
    "def binary_search(mylist, item):\n",
    "    # low and high keep track of which part of the list you'll search in.\n",
    "    low = 0\n",
    "    high = len(mylist) - 1\n",
    "\n",
    "    # While you haven't narrowed it down to one element ...\n",
    "    while low <= high:\n",
    "        # ... check the middle element\n",
    "        mid = (low + high) // 2\n",
    "        guess = mylist[mid]\n",
    "        # Found the item.\n",
    "        if guess == item:\n",
    "            return mid\n",
    "        # The guess was too high.\n",
    "        if guess > item:\n",
    "            high = mid - 1\n",
    "        # The guess was too low.\n",
    "        else:\n",
    "            low = mid + 1\n",
    "\n",
    "    # Item doesn't exist\n",
    "    return None"
   ]
  },
  {
   "cell_type": "markdown",
   "metadata": {},
   "source": [
    "To create a list of 100,000 random names, assign random letters to a list and join them to create one single string. Do so until the list for names is filled with 100,000 random names."
   ]
  },
  {
   "cell_type": "code",
   "execution_count": 4,
   "metadata": {},
   "outputs": [
    {
     "name": "stdout",
     "output_type": "stream",
     "text": [
      "The list contains 100000 random names and each name contains10 characters\n",
      "The list contains no duplicates\n",
      "First 10 names:\n"
     ]
    },
    {
     "data": {
      "text/plain": [
       "['enhjagnrqj',\n",
       " 'flnqgtkroo',\n",
       " 'wzgzsvsszj',\n",
       " 'ydxikvgsor',\n",
       " 'kdlilmauqm',\n",
       " 'idzwevxuii',\n",
       " 'tcedtzfjdg',\n",
       " 'ztavhqtfnj',\n",
       " 'rahzjyypau',\n",
       " 'dkthbcvupk']"
      ]
     },
     "execution_count": 4,
     "metadata": {},
     "output_type": "execute_result"
    }
   ],
   "source": [
    "# Requirement: \n",
    "# Create a list of 100,000 names (randomly pick 10 characters e.g. abcdefghij) \n",
    "\n",
    "names = []\n",
    "\n",
    "for i in range(100000):\n",
    "    names_temp = []\n",
    "    for j in range(10):\n",
    "        names_temp.append(random.choice(string.ascii_lowercase))\n",
    "    names.append(''.join(names_temp))\n",
    "\n",
    "# confirm requirement\n",
    "cc = Counter([len(xx) for xx in names])\n",
    "print(f'The list contains {list(cc.values())[0]} random names and each name contains\\\n",
    "{list(cc.keys())[0]} characters')\n",
    "\n",
    "if len(names) == len(set(names)):\n",
    "    print('The list contains no duplicates')\n",
    "else:\n",
    "    print('The list contains duplicates')\n",
    "    \n",
    "print('First 10 names:')\n",
    "names[:10]"
   ]
  },
  {
   "cell_type": "code",
   "execution_count": 5,
   "metadata": {},
   "outputs": [
    {
     "name": "stdout",
     "output_type": "stream",
     "text": [
      "names to search:\n"
     ]
    },
    {
     "data": {
      "text/plain": [
       "['gixftvgphm',\n",
       " 'oewgjdwlzu',\n",
       " 'neznzkkgef',\n",
       " 'amfnacqvxx',\n",
       " 'pcwapxiolz',\n",
       " 'gtviapbtte']"
      ]
     },
     "execution_count": 5,
     "metadata": {},
     "output_type": "execute_result"
    }
   ],
   "source": [
    "# Requirement: \n",
    "# Pick the names from the unsorted array that are at 10,000th, 30,000th, 50,000th, \n",
    "# 70,000th, 90,000th, and 100,000th positions\n",
    "\n",
    "# Search for these 6 names in the 1ist of 100,000 names \n",
    "names_search = [names[10000-1], names[30000-1], names[50000-1],\n",
    "                names[70000-1], names[90000-1], names[100000-1]]\n",
    "print('names to search:')\n",
    "names_search"
   ]
  },
  {
   "cell_type": "markdown",
   "metadata": {},
   "source": [
    "Search the 6 names in the list of names using linear search. Record the execution time in milliseconds for each name search and add up the amount of time. Repeat this 1000 times and take the average execution time. "
   ]
  },
  {
   "cell_type": "code",
   "execution_count": 6,
   "metadata": {},
   "outputs": [],
   "source": [
    "# Requirement: Execute Linear search on a Unsorted list of names (experiment 1 of 2)\n",
    "\n",
    "linear_search_times = []\n",
    "\n",
    "for i in range(1000):\n",
    "    linear_search_time = 0\n",
    "    for j in range(len(names_search)):\n",
    "        start = time.perf_counter()\n",
    "        linear_search(names, names_search[j])\n",
    "        end = time.perf_counter()\n",
    "        linear_search_time += ((end - start) * 1000)\n",
    "    linear_search_times.append(linear_search_time)\n",
    "    \n",
    "linear_search_time = np.mean(linear_search_times)"
   ]
  },
  {
   "cell_type": "markdown",
   "metadata": {},
   "source": [
    "A dictionary in python is used as a hash table. It is simple and very efficient in searching for items such as names in a dictionary. The function below will search the dictionary and return the value corresponding to the name in the dictionary."
   ]
  },
  {
   "cell_type": "code",
   "execution_count": 7,
   "metadata": {},
   "outputs": [],
   "source": [
    "# functions for dictionary lookup\n",
    "\n",
    "def dict_search_list(dictionary, items):\n",
    "    # to accomodate the code in cell [9] below, \n",
    "    # this function looks up multiple keys in a list and returns their values\n",
    "    # returns None if item not found\n",
    "    return [dictionary.get(xx) for xx in items]\n",
    "    \n",
    "def dict_search(dictionary, item):\n",
    "    # this function looks up a key and returns its value\n",
    "    # returns None if item not found\n",
    "    return dictionary.get(item)"
   ]
  },
  {
   "cell_type": "markdown",
   "metadata": {},
   "source": [
    "First store the list of names in a dictionary. Each name will have a random value assigned to it in the dicitonary. Next, search for the 6 names in the dictionary and return the execution time in milliseconds. Repeat this 1000 times and take the average execution time. "
   ]
  },
  {
   "cell_type": "code",
   "execution_count": 8,
   "metadata": {},
   "outputs": [],
   "source": [
    "# get dictionary from list of unsorted names\n",
    "names_dict = {k: v for v, k in enumerate(names)}"
   ]
  },
  {
   "cell_type": "code",
   "execution_count": 9,
   "metadata": {},
   "outputs": [],
   "source": [
    "# Requirement: Execute Dictionary search/lookup on a Unsorted list of names (experiment 2 of 2)\n",
    "\n",
    "dict_times = []\n",
    "\n",
    "for i in range(1000):\n",
    "    start = time.perf_counter()\n",
    "    dict_search_list(names_dict, names_search)\n",
    "    end = time.perf_counter()\n",
    "    dict_times.append((end - start) * 1000)\n",
    "\n",
    "dict_search_time = np.mean(dict_times)\n",
    "\n",
    "# Note: the provided code in this cell differs from the approach of the provided code in cell [6].\n",
    "# In cell [6], the linear_search function was called multiple times (looping through j), \n",
    "# and search time for each name was added up.\n",
    "\n",
    "# Here, for dictionary lookup, there is no inner loop (iterating j) and the dict_search_list function \n",
    "# was only called once, on a list of names. \n",
    "\n",
    "# I added another experiment below, in which dictionary lookup was also performed multiple times\n",
    "# (looping through j) and search time for each name was added up. \n",
    "\n",
    "# This second approach may more closely resemble those of linear search and binary search, \n",
    "# both of which searches for one item (e.g. name_search[j]), not a list of items (e.g., name_search)"
   ]
  },
  {
   "cell_type": "code",
   "execution_count": 10,
   "metadata": {},
   "outputs": [],
   "source": [
    "# Requirement: Execute Dictionary search/lookup on a Unsorted list of names (experiment 2 of 2)\n",
    "# (alternative method; see explanation above)\n",
    "\n",
    "dict_search2_times = []\n",
    "\n",
    "for i in range(1000):\n",
    "    dict_search2_time = 0\n",
    "    for j in range(len(names_search)):\n",
    "        start = time.perf_counter()\n",
    "        dict_search(names_dict, names_search[j])\n",
    "        end = time.perf_counter()\n",
    "        dict_search2_time += ((end - start) * 1000)\n",
    "    dict_search2_times.append(dict_search2_time)\n",
    "    \n",
    "dict_search2_time = np.mean(dict_search2_times)"
   ]
  },
  {
   "cell_type": "code",
   "execution_count": 11,
   "metadata": {},
   "outputs": [],
   "source": [
    "# confirm that each \"time\" list contains the expected number of elements\n",
    "assert len(linear_search_times) == len(dict_times) ==\\\n",
    "len(dict_search2_times) == 1000"
   ]
  },
  {
   "cell_type": "code",
   "execution_count": 12,
   "metadata": {},
   "outputs": [
    {
     "data": {
      "text/html": [
       "<div>\n",
       "<style scoped>\n",
       "    .dataframe tbody tr th:only-of-type {\n",
       "        vertical-align: middle;\n",
       "    }\n",
       "\n",
       "    .dataframe tbody tr th {\n",
       "        vertical-align: top;\n",
       "    }\n",
       "\n",
       "    .dataframe thead th {\n",
       "        text-align: right;\n",
       "    }\n",
       "</style>\n",
       "<table border=\"1\" class=\"dataframe\">\n",
       "  <thead>\n",
       "    <tr style=\"text-align: right;\">\n",
       "      <th></th>\n",
       "      <th>Search method</th>\n",
       "      <th>Execution time</th>\n",
       "    </tr>\n",
       "  </thead>\n",
       "  <tbody>\n",
       "    <tr>\n",
       "      <th>0</th>\n",
       "      <td>Linear Search</td>\n",
       "      <td>16.929566</td>\n",
       "    </tr>\n",
       "    <tr>\n",
       "      <th>1</th>\n",
       "      <td>Dictionary Search1</td>\n",
       "      <td>0.000736</td>\n",
       "    </tr>\n",
       "    <tr>\n",
       "      <th>2</th>\n",
       "      <td>Dictionary Search2</td>\n",
       "      <td>0.001397</td>\n",
       "    </tr>\n",
       "  </tbody>\n",
       "</table>\n",
       "</div>"
      ],
      "text/plain": [
       "        Search method  Execution time\n",
       "0       Linear Search       16.929566\n",
       "1  Dictionary Search1        0.000736\n",
       "2  Dictionary Search2        0.001397"
      ]
     },
     "execution_count": 12,
     "metadata": {},
     "output_type": "execute_result"
    }
   ],
   "source": [
    "# Requirement: Create the comparative analysis table\n",
    "\n",
    "method = ['Linear Search', 'Dictionary Search1', 'Dictionary Search2']\n",
    "times = [linear_search_time, dict_search_time, dict_search2_time]\n",
    "\n",
    "df1 = pd.DataFrame({'Search method':method, 'Execution time':times})\n",
    "df1"
   ]
  },
  {
   "cell_type": "markdown",
   "metadata": {},
   "source": [
    "Plot the execution time in milliseconds for the search of the 6 random names using linear search and dictionary search. As seen below, the dictionary search was much quicker than the linear search. Linear search has a Big O notation of O(n), which means that it will begin its search at the first index, then the second, and so on until it finds the value being searched for. So if the name is in the 50th index, it will take 50 steps to find the name. However, the dictionary knows exactly where the name is and will return its value almost immediately since it doesn't have to search through the dictionary for the name. It just simply knows where it is. "
   ]
  },
  {
   "cell_type": "code",
   "execution_count": 13,
   "metadata": {},
   "outputs": [
    {
     "data": {
      "image/png": "[encoded data removed]",
      "text/plain": [
       "<Figure size 1152x288 with 2 Axes>"
      ]
     },
     "metadata": {
      "needs_background": "light"
     },
     "output_type": "display_data"
    }
   ],
   "source": [
    "# Requirement: Create chart to plot the execution time for the different algorithms\n",
    "\n",
    "fig, axs = plt.subplots(1,2, figsize=(16,4), gridspec_kw={'width_ratios': [3, 2]})\n",
    "axs[0].bar(x=method, height=times)\n",
    "axs[0].set_title('Fig. 1a. Searching 6 names from unsorted list')\n",
    "axs[1].bar(x=method[1:], height=times[1:])\n",
    "axs[1].set_title('Fig. 1b. Searching 6 names from unsorted list\\nDictionary lookup only')\n",
    "for ax in axs:\n",
    "    ax.set(ylabel='Mean Execution Time\\n(Milliseconds)', xlabel='Search method / algorithm')\n",
    "plt.show()"
   ]
  },
  {
   "cell_type": "markdown",
   "metadata": {},
   "source": [
    "Use any sort algorithm to sort the list of names "
   ]
  },
  {
   "cell_type": "code",
   "execution_count": 14,
   "metadata": {},
   "outputs": [],
   "source": [
    "# Bhargava's imlementation of quicksort\n",
    "def quick_sort(array):\n",
    "  if len(array) < 2:\n",
    "    # base case, arrays with 0 or 1 element are already \"sorted\"\n",
    "    return array\n",
    "  else:\n",
    "    # recursive case\n",
    "    pivot = array[0]\n",
    "    # sub-array of all the elements less than the pivot\n",
    "    less = [i for i in array[1:] if i <= pivot]\n",
    "    # sub-array of all the elements greater than the pivot\n",
    "    greater = [i for i in array[1:] if i > pivot]\n",
    "    return quick_sort(less) + [pivot] + quick_sort(greater)"
   ]
  },
  {
   "cell_type": "code",
   "execution_count": 15,
   "metadata": {},
   "outputs": [
    {
     "name": "stdout",
     "output_type": "stream",
     "text": [
      "Execution time for sorting (quicksort): 240 milliseconds\n"
     ]
    }
   ],
   "source": [
    "# sort the list of names using quicksort\n",
    "# rationale: quicksort “is one of the fastest sorting algorithms out there” (Bhargava, 2016)\n",
    "start = time.perf_counter()\n",
    "names_sorted = quick_sort(names)\n",
    "end = time.perf_counter()\n",
    "print('Execution time for sorting (quicksort): {:.0f} milliseconds'.format((end - start) * 1000))"
   ]
  },
  {
   "cell_type": "markdown",
   "metadata": {},
   "source": [
    "Grab the names at the 10,000th, 30,000th, 50,000th, 70,000th, 90,000th, and 100,000th position to be searched for. "
   ]
  },
  {
   "cell_type": "code",
   "execution_count": 16,
   "metadata": {},
   "outputs": [
    {
     "name": "stdout",
     "output_type": "stream",
     "text": [
      "names to search:\n"
     ]
    },
    {
     "data": {
      "text/plain": [
       "['cqaisringb',\n",
       " 'hvsfjxckrp',\n",
       " 'nbldjfuhgm',\n",
       " 'sggolgibhr',\n",
       " 'xlaytjytlv',\n",
       " 'zzzohpicwy']"
      ]
     },
     "execution_count": 16,
     "metadata": {},
     "output_type": "execute_result"
    }
   ],
   "source": [
    "# Pick the names from the sorted array that are at \n",
    "# 10,000th, 30,000th, 50,000th, 70,000th, 90,000th, and 100,000th positions\n",
    "\n",
    "# Search for these 6 names in the 1ist of 100,000 names \n",
    "temp_names = [names_sorted[10000-1], names_sorted[30000-1], names_sorted[50000-1],\n",
    "              names_sorted[70000-1], names_sorted[90000-1], names_sorted[100000-1]]\n",
    "print('names to search:')\n",
    "temp_names"
   ]
  },
  {
   "cell_type": "markdown",
   "metadata": {},
   "source": [
    "Search the names at these positions using linear search. Record the execution time in milliseconds for each name search and add up the amount of time. Repeat this 1000 times and take the average execution time. "
   ]
  },
  {
   "cell_type": "code",
   "execution_count": 17,
   "metadata": {},
   "outputs": [],
   "source": [
    "# Requirement: Execute Linear search on a sorted list of names (experiment 1 of 3)\n",
    "\n",
    "linear_search_times_sorted = []\n",
    "\n",
    "for i in range(1000):\n",
    "    linear_search_time_sorted = 0\n",
    "    for j in range(len(temp_names)):\n",
    "        start = time.perf_counter()\n",
    "        linear_search(names_sorted, temp_names[j])\n",
    "        end = time.perf_counter()\n",
    "        linear_search_time_sorted += ((end - start) * 1000)\n",
    "    linear_search_times_sorted.append(linear_search_time_sorted)\n",
    "\n",
    "linear_search_time_sorted = np.mean(linear_search_times_sorted)"
   ]
  },
  {
   "cell_type": "markdown",
   "metadata": {},
   "source": [
    "Search the names at these positions using binary search. Record the execution time in milliseconds for each name search and add up the amount of time. Repeat this 1000 times and take the average execution time. "
   ]
  },
  {
   "cell_type": "code",
   "execution_count": 18,
   "metadata": {},
   "outputs": [],
   "source": [
    "# Requirement: Execute Binary search on a sorted list of names (experiment 3 of 3)\n",
    "\n",
    "binary_search_times = []\n",
    "\n",
    "for i in range(1000):\n",
    "    binary_search_time = 0\n",
    "    for j in range(len(temp_names)):\n",
    "        start = time.perf_counter()\n",
    "        binary_search(names_sorted, temp_names[j])\n",
    "        end = time.perf_counter()\n",
    "        binary_search_time += ((end - start) * 1000)\n",
    "    binary_search_times.append(binary_search_time)\n",
    "\n",
    "binary_search_time = np.mean(binary_search_times)"
   ]
  },
  {
   "cell_type": "markdown",
   "metadata": {},
   "source": [
    "Search for the names at these positions in the dictionary and return the execution time in milliseconds. Repeat this 1000 times and take the average execution time. "
   ]
  },
  {
   "cell_type": "code",
   "execution_count": 19,
   "metadata": {},
   "outputs": [],
   "source": [
    "# A dictionary of sorted names could be created:\n",
    "# names_sorted_dict = {k: v for v, k in enumerate(names_sorted)}\n",
    "\n",
    "# Here, for the purpose of getting the lookup times, I have used the same dictionary object \"names_dict\" \n",
    "# that was created and used above, as demonstrated in the Sync Session/assignment walkthrough.\n",
    "\n",
    "# The only difference between using \"names_dict\" vs. using \"names_sorted_dict\" would be that \n",
    "# different values would be returned when performing the lookup.\n",
    "# Here, searching for \"temp_names\" using \"names_dict\" returns indices \n",
    "# [15451, 39645, 83255, 62863, 68354, 51059], instead of \n",
    "# [9999, 29999, 49999, 69999, 89999, 99999] if \"names_sorted_dict\" is used."
   ]
  },
  {
   "cell_type": "code",
   "execution_count": 20,
   "metadata": {},
   "outputs": [],
   "source": [
    "# Requirement: Execute Dictionary search/lookup on the same dictionary object as above (experiment 2 of 3)\n",
    "# looking up names in a list and returning a list of values\n",
    "\n",
    "dict_times = []\n",
    "\n",
    "for i in range(1000):\n",
    "    start = time.perf_counter()\n",
    "    dict_search_list(names_dict, temp_names) \n",
    "    end = time.perf_counter()\n",
    "    dict_times.append((end - start) * 1000)\n",
    "\n",
    "dict_search_time_sorted = np.mean(dict_times)"
   ]
  },
  {
   "cell_type": "code",
   "execution_count": 21,
   "metadata": {},
   "outputs": [],
   "source": [
    "# Requirement: Execute Dictionary search/lookup on the same dictionary object as above (experiment 2 of 3)\n",
    "# alternative method of looking up a name and returning a value, one name at a time\n",
    "\n",
    "dict_search2_times_sorted = []\n",
    "\n",
    "for i in range(1000):\n",
    "    dict_search2_time_sorted = 0\n",
    "    for j in range(len(temp_names)):\n",
    "        start = time.perf_counter()\n",
    "        dict_search(names_dict, temp_names[j])\n",
    "        end = time.perf_counter()\n",
    "        dict_search2_time_sorted += ((end - start) * 1000)\n",
    "    dict_search2_times_sorted.append(dict_search2_time_sorted)\n",
    "\n",
    "dict_search2_time_sorted = np.mean(dict_search2_times_sorted)"
   ]
  },
  {
   "cell_type": "code",
   "execution_count": 22,
   "metadata": {},
   "outputs": [],
   "source": [
    "# confirm that each \"time\" list contains the expected number of elements\n",
    "assert len(linear_search_times_sorted) == len(binary_search_times) ==\\\n",
    "len(dict_times) == len(dict_search2_times_sorted) == 1000"
   ]
  },
  {
   "cell_type": "code",
   "execution_count": 23,
   "metadata": {},
   "outputs": [
    {
     "data": {
      "text/html": [
       "<div>\n",
       "<style scoped>\n",
       "    .dataframe tbody tr th:only-of-type {\n",
       "        vertical-align: middle;\n",
       "    }\n",
       "\n",
       "    .dataframe tbody tr th {\n",
       "        vertical-align: top;\n",
       "    }\n",
       "\n",
       "    .dataframe thead th {\n",
       "        text-align: right;\n",
       "    }\n",
       "</style>\n",
       "<table border=\"1\" class=\"dataframe\">\n",
       "  <thead>\n",
       "    <tr style=\"text-align: right;\">\n",
       "      <th></th>\n",
       "      <th>Search method</th>\n",
       "      <th>Execution time</th>\n",
       "    </tr>\n",
       "  </thead>\n",
       "  <tbody>\n",
       "    <tr>\n",
       "      <th>0</th>\n",
       "      <td>Linear Search</td>\n",
       "      <td>16.975678</td>\n",
       "    </tr>\n",
       "    <tr>\n",
       "      <th>1</th>\n",
       "      <td>Dictionary Search1</td>\n",
       "      <td>0.000711</td>\n",
       "    </tr>\n",
       "    <tr>\n",
       "      <th>2</th>\n",
       "      <td>Dictionary Search2</td>\n",
       "      <td>0.001400</td>\n",
       "    </tr>\n",
       "    <tr>\n",
       "      <th>3</th>\n",
       "      <td>Binary Search</td>\n",
       "      <td>0.014604</td>\n",
       "    </tr>\n",
       "  </tbody>\n",
       "</table>\n",
       "</div>"
      ],
      "text/plain": [
       "        Search method  Execution time\n",
       "0       Linear Search       16.975678\n",
       "1  Dictionary Search1        0.000711\n",
       "2  Dictionary Search2        0.001400\n",
       "3       Binary Search        0.014604"
      ]
     },
     "execution_count": 23,
     "metadata": {},
     "output_type": "execute_result"
    }
   ],
   "source": [
    "# Requirement: Create the comparative analysis table\n",
    "\n",
    "method = ['Linear Search', 'Dictionary Search1', 'Dictionary Search2', 'Binary Search']\n",
    "times = [linear_search_time_sorted, dict_search_time_sorted, dict_search2_time_sorted, binary_search_time]\n",
    "\n",
    "df2 = pd.DataFrame({'Search method':method, 'Execution time':times})\n",
    "df2"
   ]
  },
  {
   "cell_type": "markdown",
   "metadata": {},
   "source": [
    "Plot the execution time for the search of the names at the specfified positions using linear search, binary search, and dictionary search. As seen below, the dictionary search was much quicker than the linear search and binary search. This is not surprising since as mentioned with the comparison above between dictionary and linear search, the dictionary search knows exactly where the name is and does not need to search through the dictionary. Thus, it has a Big O notation of O(1). Thus, if quick retrieval is important, it would be advised to store data in a dictionary since it has almost immediate retreival times. "
   ]
  },
  {
   "cell_type": "code",
   "execution_count": 24,
   "metadata": {},
   "outputs": [
    {
     "data": {
      "image/png": "[encoded data removed]",
      "text/plain": [
       "<Figure size 1152x288 with 2 Axes>"
      ]
     },
     "metadata": {
      "needs_background": "light"
     },
     "output_type": "display_data"
    }
   ],
   "source": [
    "# Requirement: Create chart to plot the execution time for the different algorithms\n",
    "\n",
    "fig, axs = plt.subplots(1,2, figsize=(16,4), gridspec_kw={'width_ratios': [4, 3]})\n",
    "axs[0].bar(x=method, height=times)\n",
    "axs[0].set_title('Fig. 2a. Searching 6 names from sorted list')\n",
    "axs[1].bar(x=method[1:], height=times[1:])\n",
    "axs[1].set_title('Fig. 2b. Searching 6 names from sorted list\\nDictionary lookup vs. Binary search')\n",
    "for ax in axs:\n",
    "    ax.set(ylabel='Mean Execution Time\\n(Milliseconds)', xlabel='Search method / algorithm')\n",
    "plt.show()"
   ]
  },
  {
   "cell_type": "markdown",
   "metadata": {},
   "source": [
    "<div class=\"alert alert-block alert-danger\">\n",
    "    \n",
    "    \n",
    "\n",
    "### Requirements: \n",
    "- Modify the provided code to to test the performance of different search algorihtms for different data structures\n",
    "- Create a list of 100,000 names (randomly pick 10 characters e.g. abcdefghij)  \n",
    "- Pick the names from the unsorted array that are at 10,000th, 30,000th, 50,000th, 70,000th, 90,000th, and 100,000th positions\n",
    "- Search for these 6 names in the 1ist of 100,000 names generated above\n",
    "- Run 2 Experiments - Execute Linear search, Dictionary search/lookup on a Unsorted list of names\n",
    "- Run 3 Experiments - Execute Linear search, Dictionary search/lookup, and Binary search on a sorted list of names\n",
    "- Create the comparative analysis table\n",
    "- Create chart to plot the execution time for the different algorithms\n",
    "\n",
    "\n",
    "\n",
    "\n",
    "\n",
    "\n",
    "<br>\n",
    "    \n",
    "</div>"
   ]
  },
  {
   "cell_type": "markdown",
   "metadata": {},
   "source": [
    "#### Hash tables \n",
    "* In the average case, hash tables take O(1), or constant time. That is, the time taken will stay constant regardless of how big the hash table is. This applies for search, insert, and delete operations.\n",
    "* In the worst case, hash tables take O(n) for search, insert, and delete operations. To prevent hitting the worst case performance, we need to avoid collisions. To avoid collisions, we need a low load factor and a good hash function. Generally, we can safely assume that whatever programming language we use, the built-in hash table will have good (i.e., average case/constant time) performance (Bhargava, 2016).\n",
    "\n",
    "#### Dictionary search/lookup vs. linear search vs. binary search\n",
    "* Python’s hash tables are called dictionaries. We would expect dictionary search/lookup to run at the average case performance of O(1) time (Bhargava, 2016). \n",
    "* As discussed in Assignment 1 (and also in the starter script), linear search has a time complexity of O(n) and binary search runs at O(log n). \n",
    "\n",
    "#### Results\n",
    "<b>(1) Searching for 6 names in an unsorted list of length 100,000 (Fig. 1):</b>\n",
    "* Mean execution time for dictionary lookup was much faster (orders of magnitude faster) than for linear search. \n",
    "* This was expected because “the dictionary knows exactly where the name is and will return its value almost immediately since it doesn't have to search through the dictionary for the name” (ref: starter script). \n",
    "\n",
    "\n",
    "<b>(2) Searching for 6 names in a sorted list of length 100,000 (Fig. 2):</b>\n",
    "* Mean execution time for dictionary lookup was much faster (an order of magnitude to orders of magnitude faster) than for binary search and for linear search.\n",
    "* As expected, binary search was much faster than linear search (but the former requires a sorted list).\n",
    "\n",
    "\n",
    "<b>(3) Comparing Dictionary Search1 vs. Dictionary Search2:</b>\n",
    "* Dictionary Search1 (searching a list of items by calling `dict_search_list()` once) was faster than Dictionary Search2 (searching individual items one at a time by calling `dict_search()` multiple times and adding up the search times). Both were much faster than linear search or binary search.\n",
    "\n",
    "\n",
    "<b>(4) Comparing linear search and dictionary lookup on the unsorted vs. sorted list:</b>\n",
    "* Using linear search, mean execution times on the unsorted list vs. the sorted list were comparable (both ~17 ms). This was expected because linear search runs through each index until it finds the element being searched for. Here, the elements being searched for were at the same specified indicies (10,000th, 30,000th, etc.) regardless of whether the list was sorted or not.\n",
    "* For dictionary lookup, we used the same dictionary object to search for different names (look up different keys) when the list was unsorted vs. sorted. Regardless of what names/keys we look up, “the dictionary knows exactly where the name is and will return its value almost immediately since it doesn't have to search through the dictionary for the name” (ref: starter script). We would thus expect comparable mean execution times when looking up the 2 sets of names/keys.\n",
    "\n",
    "\n",
    "<b>(5) Space/memory considerations:</b>\n",
    "* We can use `sys.getsizeof()`, which returns the size of an object in bytes, to estimate the \"storage size of a particular object that occupies some space in the memory\" (ref: https://www.geeksforgeeks.org/how-to-find-size-of-an-object-in-python/). (Only the memory consumption directly attributed to the object is accounted for, not the memory consumption of objects it refers to.)\n",
    "* Here, `sys.getsizeof(names) = 824472`, `sys.getsizeof(names_dict) = 5242984`, and `sys.getsizeof(names_sorted) = 800072`, suggesting that storing the names in a dictionary (for dictionary lookup) used more memory than storing the names in a list (for linear search or binary search).\n",
    "* Python dictionaries and Python lists (internally represented as arrays; ref: https://www.geeksforgeeks.org/internal-working-of-list-in-python/) both have space complexity of O(n) (ref: https://www.bigocheatsheet.com/). Thus, as the dataset scales, the dictionary used in this experiment will likely continue to use more memory than the list.\n",
    "\n",
    "\n",
    "#### Conclusions\n",
    "* In the average case, hash tables are as fast as arrays at searching and as fast as linked lists at inserts and deletes. Indeed, “It’s the best of both worlds!” (Bhargava, 2016)\n",
    "\n",
    "\n",
    "* Since linear search runs at O(n), binary search runs at O(log n), and dictionary lookup runs at O(1) in the average case, the difference in execution time between dictionary lookup and the other 2 search algorithms will only increase with increasing list lengths. Thus, if quick retrieval is important, and the dataset is large or scalability is important, data engineers should consider storing the data in a dictionary (as long as it doesn’t conflict with any other requirements). \n",
    "\n",
    "\n",
    "* While data engineers can safely assume that whatever programming language we use, the built-in hash table will have good (constant time) performance on average (Bhargava, 2016), we should still be aware that this may not <u>always</u> be the case for real-world applications.\n",
    "\n",
    "\n",
    "* Finally, a dictionary may require more space/memory than a list, given the need to store both keys and values, in contrast to only values for lists. Thus, data engineers may also need to consider the tradeoff between time and space if such constraints exist.\n",
    "\n",
    "#### References\n",
    "* Bhargava, A. Y. (2016.) Grokking Algorithms: An Illustrated Guide for Programmers and Other Curious People. Shelter Island, N.Y.: Manning.\n"
   ]
  }
 ],
 "metadata": {
  "kernelspec": {
   "display_name": "Python 3 (ipykernel)",
   "language": "python",
   "name": "python3"
  },
  "language_info": {
   "codemirror_mode": {
    "name": "ipython",
    "version": 3
   },
   "file_extension": ".py",
   "mimetype": "text/x-python",
   "name": "python",
   "nbconvert_exporter": "python",
   "pygments_lexer": "ipython3",
   "version": "3.8.12"
  }
 },
 "nbformat": 4,
 "nbformat_minor": 2
}
